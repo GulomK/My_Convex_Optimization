{
 "cells": [
  {
   "cell_type": "code",
   "execution_count": 6,
   "id": "3aeb2a35",
   "metadata": {},
   "outputs": [],
   "source": [
    "import numpy as np\n",
    "import matplotlib.pyplot as plt\n",
    "from scipy.optimize import minimize_scalar \n",
    "from scipy.optimize import linprog"
   ]
  },
  {
   "cell_type": "code",
   "execution_count": 7,
   "id": "a8806f0a",
   "metadata": {},
   "outputs": [
    {
     "data": {
      "image/png": "[encoded data removed]",
      "text/plain": [
       "<Figure size 432x288 with 1 Axes>"
      ]
     },
     "metadata": {
      "needs_background": "light"
     },
     "output_type": "display_data"
    }
   ],
   "source": [
    "def print_a_function(f, values):\n",
    "    x = values\n",
    "    y = f(x)\n",
    "    plt.plot(x, y)\n",
    "f = lambda x : (x - 1)**4 + x**2\n",
    "values = np.linspace(0.5 - 1, 0.5 + 1, 100)\n",
    "print_a_function(f, values)"
   ]
  },
  {
   "cell_type": "code",
   "execution_count": 8,
   "id": "e10f83ba",
   "metadata": {},
   "outputs": [],
   "source": [
    "def find_root_bisection(f, min, max):\n",
    "    c = (min + max) / 2\n",
    "    while abs(max - min) > 0.001:\n",
    "        if f(min) * f(c) > 0:\n",
    "            min = c\n",
    "        else:\n",
    "            max = c\n",
    "        c = (min + max) / 2\n",
    "    return c\n",
    "# f = lambda x: x ** 2 - 5#(x - 1)**4 + x**2\n",
    "# print(find_root_bisection(f, 0, 4))"
   ]
  },
  {
   "cell_type": "code",
   "execution_count": 9,
   "id": "f6d89769",
   "metadata": {},
   "outputs": [],
   "source": [
    "def find_root_newton_raphson(f, f_deriv, x):\n",
    "    for i in range(100):\n",
    "        if abs(f(x)) < 0.001:\n",
    "            return x\n",
    "        x = x - f(x)/f_deriv(x)\n",
    "\n",
    "# f = lambda x: 4*(x - 1)**3 + 2*x #x**2 -5 \n",
    "# f_deriv = lambda x : 12*(x - 1)**2 + 2#2 * x\n",
    "# find_root_newton_raphson(f, f_deriv)"
   ]
  },
  {
   "cell_type": "code",
   "execution_count": 10,
   "id": "c8025bbe",
   "metadata": {},
   "outputs": [],
   "source": [
    "def gradient_descent(f, f_prime, start, learning_rate = 0.1):\n",
    "    list = []\n",
    "    for i in range(100):\n",
    "        start = start - learning_rate * f_prime(start)\n",
    "        list.append(start)\n",
    "    return list[-1]\n",
    "\n",
    "# f = lambda x : (x - 1) ** 4 + x ** 2 #(x - 1) ** 4 + x ** 2\n",
    "# f_prime = lambda x : 4*((x-1)**3) + 2*x #4*((x-1)**3) + 2*x\n",
    "# start = -1\n",
    "# x_min = gradient_descent(f, f_prime, start, 0.01)\n",
    "# f_min = f(x_min)\n",
    "\n",
    "# print(\"xmin: %0.2f, f(x_min): %.2f\" % (x_min, f_min))"
   ]
  },
  {
   "cell_type": "code",
   "execution_count": 11,
   "id": "55a4d1ba",
   "metadata": {},
   "outputs": [
    {
     "name": "stdout",
     "output_type": "stream",
     "text": [
      "The optimal value is:  -11.0  and is reached for x =  [3. 4.]\n"
     ]
    }
   ],
   "source": [
    "def solve_linear_problem(A, b, c):\n",
    "    res = linprog(c, A_ub=A, b_ub=b, method=\"simplex\")\n",
    "    return res.fun, res.x\n",
    "\n",
    "A = np.array([[2,1],[-4,5],[1,-2]])\n",
    "b = np.array([10,8,3])\n",
    "c = np.array([-1,-2])\n",
    "optimal_value, optimal_arg = solve_linear_problem(A, b, c)\n",
    "\n",
    "print(\"The optimal value is: \", optimal_value, \" and is reached for x = \", optimal_arg)"
   ]
  },
  {
   "cell_type": "code",
   "execution_count": 12,
   "id": "89cbaa2f",
   "metadata": {},
   "outputs": [
    {
     "name": "stdout",
     "output_type": "stream",
     "text": [
      "\n",
      "\u001b[94m\n",
      " ██████╗ ██╗    ██╗ █████╗ ███████╗ █████╗ ██████╗    ██╗ ██████╗ \n",
      "██╔═══██╗██║    ██║██╔══██╗██╔════╝██╔══██╗██╔══██╗   ██║██╔═══██╗\n",
      "██║   ██║██║ █╗ ██║███████║███████╗███████║██████╔╝   ██║██║   ██║\n",
      "██║▄▄ ██║██║███╗██║██╔══██║╚════██║██╔══██║██╔══██╗   ██║██║   ██║\n",
      "╚██████╔╝╚███╔███╔╝██║  ██║███████║██║  ██║██║  ██║██╗██║╚██████╔╝\n",
      " ╚══▀▀═╝  ╚══╝╚══╝ ╚═╝  ╚═╝╚══════╝╚═╝  ╚═╝╚═╝  ╚═╝╚═╝╚═╝ ╚═════╝ \n",
      "\t\t\t\t\t\t\t\t\t\t\t\t\t\t\t\t\t\t\t\t\t\t\t\t\t\t\t\t\t\t\t\t \u001b[0m\n",
      "Booting Gandalf v4.1.12-deab022 (production)\n",
      "Loading parameters:  \u001b[32mOK\u001b[0m\n",
      "User kurganov_s connection: \u001b[32mOK\u001b[0m\n",
      "\n",
      "\n",
      "<MY_CONVEX_OPTIMIZATION>\n",
      "Directory . exists: \u001b[32mOK\u001b[0m\n",
      "Pushing exercise: \u001b[32mOK\u001b[0m\n",
      "Printing your report:\n",
      "\n",
      " \u001b[97;1;40m     REPORT      \u001b[0m  \u001b[97mMY CONVEX OPTIMIZATION\u001b[0m \n",
      "\n",
      " Status             \u001b[92mSUCCESS\u001b[0m                \n",
      " Execution Runtime  4.293930               \n",
      " Score              [\u001b[32m=\u001b[0m\u001b[32m=\u001b[0m\u001b[32m=\u001b[0m\u001b[32m=\u001b[0m\u001b[32m=\u001b[0m\u001b[32m=\u001b[0m\u001b[32m=\u001b[0m] 7/7          \n",
      "\n",
      "\n",
      "Checks detail Report:\n",
      "\n",
      " \u001b[97;1;40mTEST FIND ROOT BISECTION I\u001b[0m  \u001b[92mSUCCESS\u001b[0m \n",
      "\n",
      "\n",
      "\n",
      " \u001b[97;1;40mTEST FIND ROOT BISECTION II\u001b[0m  \u001b[92mSUCCESS\u001b[0m \n",
      "\n",
      "\n",
      "\n",
      " \u001b[97;1;40mTEST FIND ROOT NEWTON RAPHSON I\u001b[0m  \u001b[92mSUCCESS\u001b[0m \n",
      "\n",
      "\n",
      "\n",
      " \u001b[97;1;40mTEST FIND ROOT NEWTON RAPHSON II\u001b[0m  \u001b[92mSUCCESS\u001b[0m \n",
      "\n",
      "\n",
      "\n",
      " \u001b[97;1;40mTEST GRADIENT DESCENT II\u001b[0m  \u001b[92mSUCCESS\u001b[0m \n",
      "\n",
      "\n",
      "\n",
      " \u001b[97;1;40mTEST PRINT A FUNCTION\u001b[0m  \u001b[92mSUCCESS\u001b[0m \n",
      "\n",
      "\n",
      "\n",
      " \u001b[97;1;40mTEST SOLVE LINEAR PROBLEM\u001b[0m  \u001b[92mSUCCESS\u001b[0m \n",
      "\n",
      "\n",
      "</MY_CONVEX_OPTIMIZATION>\n"
     ]
    }
   ],
   "source": [
    "!gandalf"
   ]
  },
  {
   "cell_type": "code",
   "execution_count": null,
   "id": "51fe02dc",
   "metadata": {},
   "outputs": [],
   "source": []
  }
 ],
 "metadata": {
  "kernelspec": {
   "display_name": "Python 3",
   "language": "python",
   "name": "python3"
  },
  "language_info": {
   "codemirror_mode": {
    "name": "ipython",
    "version": 3
   },
   "file_extension": ".py",
   "mimetype": "text/x-python",
   "name": "python",
   "nbconvert_exporter": "python",
   "pygments_lexer": "ipython3",
   "version": "3.6.7"
  }
 },
 "nbformat": 4,
 "nbformat_minor": 5
}
